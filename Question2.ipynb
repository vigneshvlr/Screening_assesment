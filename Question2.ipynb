{
 "cells": [
  {
   "cell_type": "markdown",
   "id": "26d4c7fd",
   "metadata": {},
   "source": [
    "# 2. Demonstrate use of abstract class, multiple inheritance and decorator in\n",
    "python using examples."
   ]
  },
  {
   "cell_type": "markdown",
   "id": "5c7b6348",
   "metadata": {},
   "source": [
    "# multiple inheritance:\n",
    "    A class can be derived from more than one base class in Python This is know as the multiple inheritance. In multiple inheritance, the features of all the base classes are inherited into the derived class. \n",
    "    The syntax for multiple inheritance is similar to single inheritance.\n"
   ]
  },
  {
   "cell_type": "code",
   "execution_count": 1,
   "id": "01f47eea",
   "metadata": {},
   "outputs": [
    {
     "name": "stdout",
     "output_type": "stream",
     "text": [
      "Batch : 2\n",
      "course : FSDS\n"
     ]
    }
   ],
   "source": [
    "#Multiple inheritance\n",
    " \n",
    "# Parent class1\n",
    "class Batch_number:\n",
    "    batchnumber = \"\"\n",
    "    def __init__(self,a,b,c):\n",
    "        self.a = a \n",
    "        self.b= b \n",
    "        self.c = c \n",
    "    @staticmethod   \n",
    "    def batch(self):\n",
    "        print(self.batchnumber)\n",
    " \n",
    "# Parent class2\n",
    "class course_name:\n",
    "    cname = \"\"\n",
    "    def course(self):\n",
    "        print(self.cname)\n",
    " \n",
    "# Child class\n",
    "class Student(Batch_number, course_name):\n",
    "    def deets(self):\n",
    "        print(\"Batch :\", self.batchnumber)\n",
    "        print(\"course :\", self.cname)\n",
    " \n",
    "# Child class \n",
    "s1 = Student(4,5,6)\n",
    "s1.batchnumber = \"2\"\n",
    "s1.cname = \"FSDS\"\n",
    "s1.deets()"
   ]
  },
  {
   "cell_type": "code",
   "execution_count": null,
   "id": "07e519b1",
   "metadata": {},
   "outputs": [],
   "source": [
    "#in the above example we have two parent class and one child class dervied from the parent class"
   ]
  },
  {
   "cell_type": "markdown",
   "id": "718a7386",
   "metadata": {},
   "source": [
    "# abstract class:\n",
    "An abstract class can be considered as a blueprint for other classes. It allows you to create a set of methods that must be created within any child classes built \n",
    "from the abstract class.\n",
    "A class which contains one or more abstract methods is called an abstract class."
   ]
  },
  {
   "cell_type": "code",
   "execution_count": null,
   "id": "475d6e99",
   "metadata": {},
   "outputs": [],
   "source": [
    "class Polygon(ABC):\n",
    " \n",
    "    @abstractmethod\n",
    "    def noofsides(self):\n",
    "        pass\n",
    " \n",
    "class Triangle(Polygon):\n",
    " \n",
    "    # overriding abstract method\n",
    "    def noofsides(self):\n",
    "        print(\"I have 3 sides\")"
   ]
  },
  {
   "cell_type": "code",
   "execution_count": null,
   "id": "99484a25",
   "metadata": {},
   "outputs": [],
   "source": [
    "#overide the noofsides"
   ]
  },
  {
   "cell_type": "markdown",
   "id": "dfd89350",
   "metadata": {},
   "source": [
    "# Decorator:\n",
    "    it is the special method /function or ,\n",
    "    which used give a particular position to variable or to a method or to class \n",
    "    eg static method"
   ]
  },
  {
   "cell_type": "code",
   "execution_count": null,
   "id": "4e7bbf33",
   "metadata": {},
   "outputs": [],
   "source": [
    "# Parent class1\n",
    "class Batch_number:\n",
    "    batchnumber = \"\"\n",
    "    def __init__(self,a,b,c):\n",
    "        self.a = a \n",
    "        self.b= b \n",
    "        self.c = c \n",
    "    @staticmethod   #this is a decorator\n",
    "    def batch(self):\n",
    "        print(self.batchnumber)"
   ]
  }
 ],
 "metadata": {
  "kernelspec": {
   "display_name": "Python 3 (ipykernel)",
   "language": "python",
   "name": "python3"
  },
  "language_info": {
   "codemirror_mode": {
    "name": "ipython",
    "version": 3
   },
   "file_extension": ".py",
   "mimetype": "text/x-python",
   "name": "python",
   "nbconvert_exporter": "python",
   "pygments_lexer": "ipython3",
   "version": "3.9.12"
  }
 },
 "nbformat": 4,
 "nbformat_minor": 5
}
