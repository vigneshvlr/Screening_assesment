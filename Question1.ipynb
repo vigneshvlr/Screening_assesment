{
 "cells": [
  {
   "cell_type": "markdown",
   "id": "0ebdbd8b",
   "metadata": {},
   "source": [
    "# Question1:\n",
    "        \n",
    "        \n",
    "        "
   ]
  },
  {
   "cell_type": "code",
   "execution_count": 13,
   "id": "5e573125",
   "metadata": {},
   "outputs": [],
   "source": [
    "def function(filename,stringto_replace,replace_string):\n",
    "    \n",
    "        f=open(filename,'r+')\n",
    "        c=f.read()\n",
    "        if stringto_replace in c:#checking whether the string which needs to be replaced or present or not in the file\n",
    "            c=c.replace(stringto_replace,replace_string) #if it is present replacing it with the replace string given by the user\n",
    "            f.truncate(0) #making the file empty\n",
    "            f.seek(0) #going to inital poistion\n",
    "            f.write(c) #writing the file with replace_string complete\n",
    "        else:\n",
    "            print(\"The stringto be replaced is not available in file itself\")\n",
    "     \n",
    "        "
   ]
  },
  {
   "cell_type": "code",
   "execution_count": 14,
   "id": "c944ba5a",
   "metadata": {},
   "outputs": [],
   "source": [
    "function(\"sample.txt\",\"placement\",\"screening\")#As given giving the parameters as given in the assingment"
   ]
  },
  {
   "cell_type": "code",
   "execution_count": null,
   "id": "f4479245",
   "metadata": {},
   "outputs": [],
   "source": []
  }
 ],
 "metadata": {
  "kernelspec": {
   "display_name": "Python 3 (ipykernel)",
   "language": "python",
   "name": "python3"
  },
  "language_info": {
   "codemirror_mode": {
    "name": "ipython",
    "version": 3
   },
   "file_extension": ".py",
   "mimetype": "text/x-python",
   "name": "python",
   "nbconvert_exporter": "python",
   "pygments_lexer": "ipython3",
   "version": "3.9.12"
  }
 },
 "nbformat": 4,
 "nbformat_minor": 5
}
